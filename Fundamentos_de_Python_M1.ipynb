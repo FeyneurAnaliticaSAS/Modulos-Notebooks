{
  "nbformat": 4,
  "nbformat_minor": 0,
  "metadata": {
    "colab": {
      "name": "Fundamentos_de_Python_M1.ipynb",
      "provenance": [],
      "toc_visible": true,
      "authorship_tag": "ABX9TyMZ8ovOTT4w1tZeYrzuy3bf",
      "include_colab_link": true
    },
    "kernelspec": {
      "name": "python3",
      "display_name": "Python 3"
    },
    "language_info": {
      "name": "python"
    }
  },
  "cells": [
    {
      "cell_type": "markdown",
      "metadata": {
        "id": "view-in-github",
        "colab_type": "text"
      },
      "source": [
        "<a href=\"https://colab.research.google.com/github/FeyneurAnaliticaSAS/Modulos-Notebooks/blob/master/Fundamentos_de_Python_M1.ipynb\" target=\"_parent\"><img src=\"https://colab.research.google.com/assets/colab-badge.svg\" alt=\"Open In Colab\"/></a>"
      ]
    },
    {
      "cell_type": "markdown",
      "source": [
        "# ¡SÉ UN CIENTÍFICO DE DATOS! \n",
        "## Módulo 1: Introdución a Python. \n",
        " "
      ],
      "metadata": {
        "id": "-DqP77dGo6gA"
      }
    },
    {
      "cell_type": "markdown",
      "source": [
        "### Tipos de datos. "
      ],
      "metadata": {
        "id": "RdTH-OrmpYxf"
      }
    },
    {
      "cell_type": "code",
      "source": [
        "print(type(\"Feyneur\"), type(123), type(123.45), type(True))"
      ],
      "metadata": {
        "colab": {
          "base_uri": "https://localhost:8080/"
        },
        "id": "yETx0Wr7p36L",
        "outputId": "ef53250a-6097-4a23-e9d8-f87ea3442fe0"
      },
      "execution_count": null,
      "outputs": [
        {
          "output_type": "stream",
          "name": "stdout",
          "text": [
            "<class 'str'> <class 'int'> <class 'float'> <class 'bool'>\n"
          ]
        }
      ]
    },
    {
      "cell_type": "markdown",
      "source": [
        "### Variables y asignaciones"
      ],
      "metadata": {
        "id": "ZxsPUCt3rlx0"
      }
    },
    {
      "cell_type": "code",
      "source": [
        "my_variable = 55 # my_variable es del tipo int \n",
        "print(f\"El valor en la variable my_variable es: {my_variable}  y su tipo es: {type(my_variable)}\") \n",
        "\n",
        "# Si nos fijamos, el output dice <class 'int'> esto es porque todo en Python son objetos. "
      ],
      "metadata": {
        "colab": {
          "base_uri": "https://localhost:8080/"
        },
        "id": "VEXlWjdAroIW",
        "outputId": "8d67b91f-1b1d-4f4c-c24b-cb4d05fac273"
      },
      "execution_count": null,
      "outputs": [
        {
          "output_type": "stream",
          "name": "stdout",
          "text": [
            "El valor en la variable my_variable es: 55  y su tipo es: <class 'int'>\n"
          ]
        }
      ]
    },
    {
      "cell_type": "markdown",
      "source": [
        "### Operaciones"
      ],
      "metadata": {
        "id": "nnvUv14AvjLj"
      }
    },
    {
      "cell_type": "code",
      "source": [
        "# Calculo de calificaciones de estudiantes. \n",
        "student_one_grade = 55.5 \n",
        "student_two_grade = 99.5\n",
        "student_three_grade = 66.8 \n",
        "\n",
        "# Calculo de la media \n",
        "mean_grade = (student_one_grade + student_two_grade + student_three_grade) / 3 \n",
        "print(\"La media de calificaciones es: \", mean_grade)"
      ],
      "metadata": {
        "colab": {
          "base_uri": "https://localhost:8080/"
        },
        "id": "EzdXOp9vvn30",
        "outputId": "da65a7f7-10bf-4d0b-df69-099d014e42a1"
      },
      "execution_count": null,
      "outputs": [
        {
          "output_type": "stream",
          "name": "stdout",
          "text": [
            "73.93333333333334\n"
          ]
        }
      ]
    },
    {
      "cell_type": "code",
      "source": [
        "# Orden de operaciones \n",
        "print(15 / 3 + 8 - 2 * 3)"
      ],
      "metadata": {
        "colab": {
          "base_uri": "https://localhost:8080/"
        },
        "id": "53gfaSzxwjwo",
        "outputId": "1a774d15-a7ea-4a52-8b0e-998ab244c029"
      },
      "execution_count": null,
      "outputs": [
        {
          "output_type": "stream",
          "name": "stdout",
          "text": [
            "7.0\n"
          ]
        }
      ]
    },
    {
      "cell_type": "code",
      "source": [
        "import math # importamos funcionalidades\n",
        "\n",
        "print('El factorial de 5 es: ', math.factorial(5))"
      ],
      "metadata": {
        "colab": {
          "base_uri": "https://localhost:8080/"
        },
        "id": "5zKfChiPxua0",
        "outputId": "9aed1ada-963a-4c94-bf90-4e4e274e213d"
      },
      "execution_count": null,
      "outputs": [
        {
          "output_type": "stream",
          "name": "stdout",
          "text": [
            "El factorial de 5 es:  120\n"
          ]
        }
      ]
    },
    {
      "cell_type": "markdown",
      "source": [
        "### Sentencias Condicionales"
      ],
      "metadata": {
        "id": "Ifpie0rx_XbR"
      }
    },
    {
      "cell_type": "code",
      "source": [
        "prompt = \"Está lloviendo? Si es así escriba SI si no es así escriba NO. \" # Texto que le mostramos al usuario\n",
        "user_input = input(prompt) # De esta forma permitimos que el usuario nos de un input \n",
        "\n",
        "# En python todo input por defecto es tomado como un str (string)\n",
        "\n",
        "if user_input == 'SI':\n",
        "    print('Puedes salir a jugar!')\n",
        "else:\n",
        "    print('No puedes salir a jugar!')\n",
        "\n"
      ],
      "metadata": {
        "colab": {
          "base_uri": "https://localhost:8080/"
        },
        "id": "WXW082Kk_cFL",
        "outputId": "22ce8fcd-56c3-462c-c8dc-9f6d5c7e5738"
      },
      "execution_count": null,
      "outputs": [
        {
          "output_type": "stream",
          "name": "stdout",
          "text": [
            "Está lloviendo? Si es así escriba SI si no es así escriba NOSI\n",
            "Puedes salir a jugar!\n"
          ]
        }
      ]
    },
    {
      "cell_type": "code",
      "source": [
        "if 5>3:\n",
        "    print(' En efecto 5 es mayor que 3!')"
      ],
      "metadata": {
        "colab": {
          "base_uri": "https://localhost:8080/"
        },
        "id": "Cv1VCk_BAexM",
        "outputId": "62cd6957-cb30-40bc-914c-c55c0f14a85d"
      },
      "execution_count": null,
      "outputs": [
        {
          "output_type": "stream",
          "name": "stdout",
          "text": [
            " En efecto 5 es mayor que 3!\n"
          ]
        }
      ]
    },
    {
      "cell_type": "code",
      "source": [
        "# Notemos que 5>3 es un tipo de dato booleano \n",
        "type(5>3) # Entrega un valor de verdad"
      ],
      "metadata": {
        "colab": {
          "base_uri": "https://localhost:8080/"
        },
        "id": "VjWI46aDAmPm",
        "outputId": "48ae6bb9-0c85-4c66-dbb8-b44984bbee4c"
      },
      "execution_count": null,
      "outputs": [
        {
          "output_type": "execute_result",
          "data": {
            "text/plain": [
              "bool"
            ]
          },
          "metadata": {},
          "execution_count": 4
        }
      ]
    },
    {
      "cell_type": "code",
      "source": [
        "print(5>3)"
      ],
      "metadata": {
        "colab": {
          "base_uri": "https://localhost:8080/"
        },
        "id": "S3zA8xRoAu2n",
        "outputId": "ddc994f8-de7f-4dd6-982d-9fb522e23fd9"
      },
      "execution_count": null,
      "outputs": [
        {
          "output_type": "stream",
          "name": "stdout",
          "text": [
            "True\n"
          ]
        }
      ]
    },
    {
      "cell_type": "code",
      "source": [
        "# Esta sentencia condiconal se usa cuando tengo varias opciones para una misma pregunta. \n",
        "\n",
        "user_input = input(\"Ingrese un numero del 1 al 3. \") \n",
        "\n",
        "if user_input is 1:\n",
        "    print('Has ingresado 1.')\n",
        "elif user_input is 2:\n",
        "    print('Has Ingresado 2')\n",
        "elif user_input is 3: \n",
        "    print('Has ingresado 3')\n",
        "\n",
        "# Esto lo podemos hacer con sentencias simples\n",
        "\n",
        "if user_input == 1:\n",
        "    print('Has ingresado 1')\n",
        "else: \n",
        "    if user_input ==2 :\n",
        "        print('Has ingresado 2')\n",
        "    else:\n",
        "        print('Has Ingresado 3')\n",
        "\n",
        "# El uso de uno u otro depende el caso."
      ],
      "metadata": {
        "colab": {
          "base_uri": "https://localhost:8080/"
        },
        "id": "pdYvNB77Cefl",
        "outputId": "ed4ffc62-f742-438b-be63-8064c375ac6d"
      },
      "execution_count": null,
      "outputs": [
        {
          "output_type": "stream",
          "name": "stdout",
          "text": [
            "Ingrese un numero del 1 al 3. 3\n",
            "Has Ingresado 3\n"
          ]
        }
      ]
    },
    {
      "cell_type": "markdown",
      "source": [
        "### Sentencias repetitivas"
      ],
      "metadata": {
        "id": "sBzpHbSmELLp"
      }
    },
    {
      "cell_type": "code",
      "source": [
        "# Suma de los numeros del 1 al 10 \n",
        "sum = 0\n",
        "for i in range(1,11): \n",
        "    print(i)\n",
        "    sum = sum + i \n",
        "\n",
        "print('La suma es: ', sum)"
      ],
      "metadata": {
        "colab": {
          "base_uri": "https://localhost:8080/"
        },
        "id": "WkD6Cri2ENN3",
        "outputId": "f71259dc-b59b-4699-b4d7-f846d7470194"
      },
      "execution_count": null,
      "outputs": [
        {
          "output_type": "stream",
          "name": "stdout",
          "text": [
            "1\n",
            "2\n",
            "3\n",
            "4\n",
            "5\n",
            "6\n",
            "7\n",
            "8\n",
            "9\n",
            "10\n",
            "La suma es:  55\n"
          ]
        }
      ]
    },
    {
      "cell_type": "code",
      "source": [
        "# Ejemplo de uso de While \n",
        "# vamos a imprimir en pantalla los numeros del 1 al 5 \n",
        "sum = 1\n",
        "\n",
        "while(sum <=5):\n",
        "    print(sum)\n",
        "    sum = sum + 1\n",
        "\n"
      ],
      "metadata": {
        "colab": {
          "base_uri": "https://localhost:8080/"
        },
        "id": "BVZOS7sJFgmN",
        "outputId": "bc399614-a868-4904-d024-a2df4b80a244"
      },
      "execution_count": null,
      "outputs": [
        {
          "output_type": "stream",
          "name": "stdout",
          "text": [
            "1\n",
            "2\n",
            "3\n",
            "4\n",
            "5\n"
          ]
        }
      ]
    },
    {
      "cell_type": "markdown",
      "source": [
        "### Funciones"
      ],
      "metadata": {
        "id": "m2JrakksOBb6"
      }
    },
    {
      "cell_type": "code",
      "source": [
        "# Funcion que realiza la suma de dos numeros\n",
        "def sum(num_1, num_2):\n",
        "    return num_1 + num_2 \n",
        "\n",
        "print(sum(2,4))"
      ],
      "metadata": {
        "colab": {
          "base_uri": "https://localhost:8080/"
        },
        "id": "EQyuLbPCOCrE",
        "outputId": "275079bb-bc9c-49cd-a3d2-040b4d5bebf4"
      },
      "execution_count": null,
      "outputs": [
        {
          "output_type": "stream",
          "name": "stdout",
          "text": [
            "6\n"
          ]
        }
      ]
    },
    {
      "cell_type": "code",
      "source": [
        "# Funcion que verifica si un numero es par \n",
        "\n",
        "def es_par(n):\n",
        "    return n%2 == 0\n",
        "\n",
        "es_par(3)"
      ],
      "metadata": {
        "colab": {
          "base_uri": "https://localhost:8080/"
        },
        "id": "bPg7OiK7OTwk",
        "outputId": "5fb174f1-8951-467f-b55f-0b4861d55211"
      },
      "execution_count": null,
      "outputs": [
        {
          "output_type": "execute_result",
          "data": {
            "text/plain": [
              "False"
            ]
          },
          "metadata": {},
          "execution_count": 16
        }
      ]
    },
    {
      "cell_type": "code",
      "source": [
        ""
      ],
      "metadata": {
        "id": "osxL7aLmOaRr"
      },
      "execution_count": null,
      "outputs": []
    }
  ]
}